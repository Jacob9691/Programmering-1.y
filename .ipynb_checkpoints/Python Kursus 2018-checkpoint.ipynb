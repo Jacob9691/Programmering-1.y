{
 "cells": [
  {
   "cell_type": "markdown",
   "metadata": {},
   "source": [
    "# Introduktion til Jupyter Notebook Markdown\n",
    "\n",
    "Herunder vil der komme de mest andvendte kommandoer til markdown, som er en måde at markere forskellige skriftstørrelser og funktioner der er system uafhængige.\n",
    "\n",
    "Man kan lave noget *kursiv*. Det er også miligt at lave **fed** og ***fed og kursiv***\n"
   ]
  },
  {
   "cell_type": "markdown",
   "metadata": {},
   "source": [
    "### Variabler\n",
    "\n",
    "I python er der ingen {} og der er heller ikke ; . Det hele er baseret på linieskif og indryk. Det har både fordele og ulemper. Det er vigtig at holde sig for øje at det nøjagtige antal *mellemrum/spaces* har indflydelse på det såkaldte **scope**.\n",
    "\n",
    "Ydermere kræver Python ikke en specifikation af datatype til variablen. "
   ]
  },
  {
   "cell_type": "code",
   "execution_count": 2,
   "metadata": {},
   "outputs": [],
   "source": [
    "#Variabler. Variabler kan hedde alt, men ikke ***æøå***\n",
    "\n",
    "#Variabel der indeholder HELTAL kaldet for Int eller Integers\n",
    "a = 4\n",
    "kat = 6\n",
    "ting = 2\n",
    "\n",
    "#Variabel der indeholder KOMMATAL kaldes for Float\n",
    "b = 2.5\n",
    "\n",
    "#Variabel der indeholder TEKST kalder man for String\n",
    "c = \"Hej\"\n",
    "\n",
    "#Variabel der indeholder Boolske værdier dvs. SANDT/FALSK eller Bool/boolean\n",
    "d = False\n",
    "\n",
    "#PAS PÅ man kan lave rod i det hele. Man skal ikke bruge den samme variable til noget andet.\n",
    "#d = \"Hej igen\""
   ]
  },
  {
   "cell_type": "code",
   "execution_count": 3,
   "metadata": {},
   "outputs": [
    {
     "name": "stdout",
     "output_type": "stream",
     "text": [
      "4\n"
     ]
    }
   ],
   "source": [
    "# For at undersøge hvad vi har eller hvad der gemmer sig i forskellige variabler kan vi bruge print(). \n",
    "\n",
    "print(a)"
   ]
  },
  {
   "cell_type": "code",
   "execution_count": 6,
   "metadata": {},
   "outputs": [
    {
     "name": "stdout",
     "output_type": "stream",
     "text": [
      "<class 'int'>\n",
      "<class 'float'>\n",
      "<class 'str'>\n",
      "<class 'bool'>\n"
     ]
    }
   ],
   "source": [
    "# ofte har vi brug for at se præcist hvilken type en variabel er. Til dette kan vi bruge funktionen type().\n",
    "\n",
    "print(type(a))\n",
    "print(type(b))\n",
    "print(type(c))\n",
    "print(type(d))"
   ]
  }
 ],
 "metadata": {
  "kernelspec": {
   "display_name": "Python 3",
   "language": "python",
   "name": "python3"
  },
  "language_info": {
   "codemirror_mode": {
    "name": "ipython",
    "version": 3
   },
   "file_extension": ".py",
   "mimetype": "text/x-python",
   "name": "python",
   "nbconvert_exporter": "python",
   "pygments_lexer": "ipython3",
   "version": "3.7.1"
  }
 },
 "nbformat": 4,
 "nbformat_minor": 2
}
